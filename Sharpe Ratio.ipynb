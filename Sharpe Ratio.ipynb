{
 "cells": [
  {
   "cell_type": "code",
   "execution_count": 1,
   "id": "26b1fd41-18e6-46c1-adb8-10a63b8c407a",
   "metadata": {},
   "outputs": [],
   "source": [
    "import numpy as np\n",
    "\n",
    "# Simulated daily returns of a stock (e.g., from model or historical data)\n",
    "daily_returns = np.array([0.001, 0.002, -0.001, 0.003, -0.002, 0.0005, 0.0025])\n"
   ]
  },
  {
   "cell_type": "code",
   "execution_count": 2,
   "id": "a2cacf06-13ae-42d3-83d2-4ef6ea8c17d7",
   "metadata": {},
   "outputs": [],
   "source": [
    "# Risk-free rate (e.g., daily return of T-bill, assume 0.0001 or 0.01%)\n",
    "risk_free_rate = 0.0001\n",
    "\n",
    "# Excess returns\n",
    "excess_returns = daily_returns - risk_free_rate\n",
    "\n",
    "# Sharpe Ratio = Mean(Excess Return) / Std(Excess Return)\n",
    "sharpe_ratio = np.mean(excess_returns) / np.std(excess_returns)"
   ]
  },
  {
   "cell_type": "code",
   "execution_count": 3,
   "id": "0c73957d-387f-4217-bbee-8f111e0f3578",
   "metadata": {},
   "outputs": [
    {
     "name": "stdout",
     "output_type": "stream",
     "text": [
      "Sharpe Ratio: 0.44\n"
     ]
    }
   ],
   "source": [
    "print(f\"Sharpe Ratio: {sharpe_ratio:.2f}\")"
   ]
  }
 ],
 "metadata": {
  "kernelspec": {
   "display_name": "Python 3 (ipykernel)",
   "language": "python",
   "name": "python3"
  },
  "language_info": {
   "codemirror_mode": {
    "name": "ipython",
    "version": 3
   },
   "file_extension": ".py",
   "mimetype": "text/x-python",
   "name": "python",
   "nbconvert_exporter": "python",
   "pygments_lexer": "ipython3",
   "version": "3.12.7"
  }
 },
 "nbformat": 4,
 "nbformat_minor": 5
}
