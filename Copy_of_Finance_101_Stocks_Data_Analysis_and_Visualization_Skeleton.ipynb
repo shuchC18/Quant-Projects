{
 "cells": [
  {
   "cell_type": "markdown",
   "metadata": {
    "id": "dveNg7H5t2a9"
   },
   "source": [
    "#TASK #1: PROBLEM STATEMENT AND PROJECT OVERVIEW"
   ]
  },
  {
   "cell_type": "markdown",
   "metadata": {
    "id": "UGwEFRke2fb7"
   },
   "source": [
    "![alt text](https://drive.google.com/uc?id=1qOZKOEs_N-SbkO2vqlsxpXfHAqjZLw1p)"
   ]
  },
  {
   "cell_type": "markdown",
   "metadata": {
    "id": "zAlupUSit5fK"
   },
   "source": [
    "#TASK #2: IMPORT DATASETS AND LIBRARIES"
   ]
  },
  {
   "cell_type": "code",
   "execution_count": 51,
   "metadata": {
    "id": "_CUspuoRt25m"
   },
   "outputs": [],
   "source": [
    "import pandas as pd\n",
    "import matplotlib.pyplot as plt\n",
    "import numpy as np\n",
    "import seaborn as sns\n",
    "from copy import copy\n",
    "from scipy import stats\n",
    "import plotly.express as px\n",
    "import plotly.figure_factory as ff\n",
    "import plotly.graph_objects as go"
   ]
  },
  {
   "cell_type": "code",
   "execution_count": 9,
   "metadata": {
    "id": "G7-KNz6Dt9JS"
   },
   "outputs": [],
   "source": [
    "# Read the stock data csv file, here's the list of the stocks considered:\n",
    "\n",
    "# AAPL = Apple Stock\n",
    "# BA = Boeing\n",
    "# T = AT&T\n",
    "# MGM = MGM Resorts International (Hotel Industry)\n",
    "# AMZN = Amazon\n",
    "# IBM = IBM\n",
    "# TSLA = Tesla Motors\n",
    "# GOOG = Google\n",
    "# sp500 = US Stock Market (S&P 500 is a stock market index that measures the stock performance of 500 large companies listed on U.S. stock exchange)\n",
    "# Check the list of S&P 500 companies here: https://en.wikipedia.org/wiki/List_of_S%26P_500_companies\n",
    "\n"
   ]
  },
  {
   "cell_type": "code",
   "execution_count": 10,
   "metadata": {
    "colab": {
     "base_uri": "https://localhost:8080/",
     "height": 206
    },
    "id": "rG6OvT-ZmzDb",
    "outputId": "2e65ef84-24cf-4b92-8020-0f9330909532"
   },
   "outputs": [
    {
     "data": {
      "text/html": [
       "<div>\n",
       "<style scoped>\n",
       "    .dataframe tbody tr th:only-of-type {\n",
       "        vertical-align: middle;\n",
       "    }\n",
       "\n",
       "    .dataframe tbody tr th {\n",
       "        vertical-align: top;\n",
       "    }\n",
       "\n",
       "    .dataframe thead th {\n",
       "        text-align: right;\n",
       "    }\n",
       "</style>\n",
       "<table border=\"1\" class=\"dataframe\">\n",
       "  <thead>\n",
       "    <tr style=\"text-align: right;\">\n",
       "      <th></th>\n",
       "      <th>Date</th>\n",
       "      <th>AAPL</th>\n",
       "      <th>BA</th>\n",
       "      <th>T</th>\n",
       "      <th>MGM</th>\n",
       "      <th>AMZN</th>\n",
       "      <th>IBM</th>\n",
       "      <th>TSLA</th>\n",
       "      <th>GOOG</th>\n",
       "      <th>sp500</th>\n",
       "    </tr>\n",
       "  </thead>\n",
       "  <tbody>\n",
       "    <tr>\n",
       "      <th>0</th>\n",
       "      <td>2012-01-12</td>\n",
       "      <td>60.198570</td>\n",
       "      <td>75.510002</td>\n",
       "      <td>30.120001</td>\n",
       "      <td>12.13</td>\n",
       "      <td>175.929993</td>\n",
       "      <td>180.550003</td>\n",
       "      <td>28.250000</td>\n",
       "      <td>313.644379</td>\n",
       "      <td>1295.500000</td>\n",
       "    </tr>\n",
       "    <tr>\n",
       "      <th>1</th>\n",
       "      <td>2012-01-13</td>\n",
       "      <td>59.972858</td>\n",
       "      <td>74.599998</td>\n",
       "      <td>30.070000</td>\n",
       "      <td>12.35</td>\n",
       "      <td>178.419998</td>\n",
       "      <td>179.160004</td>\n",
       "      <td>22.790001</td>\n",
       "      <td>311.328064</td>\n",
       "      <td>1289.089966</td>\n",
       "    </tr>\n",
       "    <tr>\n",
       "      <th>2</th>\n",
       "      <td>2012-01-17</td>\n",
       "      <td>60.671429</td>\n",
       "      <td>75.239998</td>\n",
       "      <td>30.250000</td>\n",
       "      <td>12.25</td>\n",
       "      <td>181.660004</td>\n",
       "      <td>180.000000</td>\n",
       "      <td>26.600000</td>\n",
       "      <td>313.116364</td>\n",
       "      <td>1293.670044</td>\n",
       "    </tr>\n",
       "    <tr>\n",
       "      <th>3</th>\n",
       "      <td>2012-01-18</td>\n",
       "      <td>61.301430</td>\n",
       "      <td>75.059998</td>\n",
       "      <td>30.330000</td>\n",
       "      <td>12.73</td>\n",
       "      <td>189.440002</td>\n",
       "      <td>181.070007</td>\n",
       "      <td>26.809999</td>\n",
       "      <td>315.273285</td>\n",
       "      <td>1308.040039</td>\n",
       "    </tr>\n",
       "    <tr>\n",
       "      <th>4</th>\n",
       "      <td>2012-01-19</td>\n",
       "      <td>61.107143</td>\n",
       "      <td>75.559998</td>\n",
       "      <td>30.420000</td>\n",
       "      <td>12.80</td>\n",
       "      <td>194.449997</td>\n",
       "      <td>180.520004</td>\n",
       "      <td>26.760000</td>\n",
       "      <td>318.590851</td>\n",
       "      <td>1314.500000</td>\n",
       "    </tr>\n",
       "  </tbody>\n",
       "</table>\n",
       "</div>"
      ],
      "text/plain": [
       "         Date       AAPL         BA          T    MGM        AMZN         IBM  \\\n",
       "0  2012-01-12  60.198570  75.510002  30.120001  12.13  175.929993  180.550003   \n",
       "1  2012-01-13  59.972858  74.599998  30.070000  12.35  178.419998  179.160004   \n",
       "2  2012-01-17  60.671429  75.239998  30.250000  12.25  181.660004  180.000000   \n",
       "3  2012-01-18  61.301430  75.059998  30.330000  12.73  189.440002  181.070007   \n",
       "4  2012-01-19  61.107143  75.559998  30.420000  12.80  194.449997  180.520004   \n",
       "\n",
       "        TSLA        GOOG        sp500  \n",
       "0  28.250000  313.644379  1295.500000  \n",
       "1  22.790001  311.328064  1289.089966  \n",
       "2  26.600000  313.116364  1293.670044  \n",
       "3  26.809999  315.273285  1308.040039  \n",
       "4  26.760000  318.590851  1314.500000  "
      ]
     },
     "execution_count": 10,
     "metadata": {},
     "output_type": "execute_result"
    }
   ],
   "source": [
    "df = pd.read_csv('stock.csv')\n",
    "\n",
    "df.head()"
   ]
  },
  {
   "cell_type": "code",
   "execution_count": 11,
   "metadata": {
    "colab": {
     "base_uri": "https://localhost:8080/"
    },
    "id": "vr_c6b6UnIu8",
    "outputId": "3d771c5e-8d99-4951-b3a3-c826f777fb25"
   },
   "outputs": [
    {
     "data": {
      "text/plain": [
       "(2159, 10)"
      ]
     },
     "execution_count": 11,
     "metadata": {},
     "output_type": "execute_result"
    }
   ],
   "source": [
    "df.shape"
   ]
  },
  {
   "cell_type": "code",
   "execution_count": 36,
   "metadata": {
    "colab": {
     "base_uri": "https://localhost:8080/"
    },
    "id": "hCikU8CznJWW",
    "outputId": "b84a867a-c27a-4443-f501-e33f901fbbde"
   },
   "outputs": [
    {
     "name": "stdout",
     "output_type": "stream",
     "text": [
      "<class 'pandas.core.frame.DataFrame'>\n",
      "RangeIndex: 2159 entries, 0 to 2158\n",
      "Data columns (total 10 columns):\n",
      " #   Column  Non-Null Count  Dtype  \n",
      "---  ------  --------------  -----  \n",
      " 0   Date    2159 non-null   object \n",
      " 1   AAPL    2159 non-null   float64\n",
      " 2   BA      2159 non-null   float64\n",
      " 3   T       2159 non-null   float64\n",
      " 4   MGM     2159 non-null   float64\n",
      " 5   AMZN    2159 non-null   float64\n",
      " 6   IBM     2159 non-null   float64\n",
      " 7   TSLA    2159 non-null   float64\n",
      " 8   GOOG    2159 non-null   float64\n",
      " 9   sp500   2159 non-null   float64\n",
      "dtypes: float64(9), object(1)\n",
      "memory usage: 168.8+ KB\n"
     ]
    }
   ],
   "source": [
    "df.info()"
   ]
  },
  {
   "cell_type": "code",
   "execution_count": 35,
   "metadata": {
    "colab": {
     "base_uri": "https://localhost:8080/",
     "height": 300
    },
    "id": "PywkyzYpnQjR",
    "outputId": "4f0264d8-3d99-4dd2-93e5-7e5bcd9ccb6a"
   },
   "outputs": [
    {
     "data": {
      "text/html": [
       "<div>\n",
       "<style scoped>\n",
       "    .dataframe tbody tr th:only-of-type {\n",
       "        vertical-align: middle;\n",
       "    }\n",
       "\n",
       "    .dataframe tbody tr th {\n",
       "        vertical-align: top;\n",
       "    }\n",
       "\n",
       "    .dataframe thead th {\n",
       "        text-align: right;\n",
       "    }\n",
       "</style>\n",
       "<table border=\"1\" class=\"dataframe\">\n",
       "  <thead>\n",
       "    <tr style=\"text-align: right;\">\n",
       "      <th></th>\n",
       "      <th>AAPL</th>\n",
       "      <th>BA</th>\n",
       "      <th>T</th>\n",
       "      <th>MGM</th>\n",
       "      <th>AMZN</th>\n",
       "      <th>IBM</th>\n",
       "      <th>TSLA</th>\n",
       "      <th>GOOG</th>\n",
       "      <th>sp500</th>\n",
       "    </tr>\n",
       "  </thead>\n",
       "  <tbody>\n",
       "    <tr>\n",
       "      <th>count</th>\n",
       "      <td>2159.000000</td>\n",
       "      <td>2159.000000</td>\n",
       "      <td>2159.000000</td>\n",
       "      <td>2159.000000</td>\n",
       "      <td>2159.000000</td>\n",
       "      <td>2159.000000</td>\n",
       "      <td>2159.000000</td>\n",
       "      <td>2159.000000</td>\n",
       "      <td>2159.000000</td>\n",
       "    </tr>\n",
       "    <tr>\n",
       "      <th>mean</th>\n",
       "      <td>140.819823</td>\n",
       "      <td>189.942700</td>\n",
       "      <td>35.162899</td>\n",
       "      <td>23.105743</td>\n",
       "      <td>915.665665</td>\n",
       "      <td>161.853001</td>\n",
       "      <td>259.600815</td>\n",
       "      <td>783.712512</td>\n",
       "      <td>2218.749554</td>\n",
       "    </tr>\n",
       "    <tr>\n",
       "      <th>std</th>\n",
       "      <td>70.827601</td>\n",
       "      <td>103.678586</td>\n",
       "      <td>3.207490</td>\n",
       "      <td>6.963847</td>\n",
       "      <td>697.838905</td>\n",
       "      <td>25.561938</td>\n",
       "      <td>210.988003</td>\n",
       "      <td>334.448057</td>\n",
       "      <td>537.321727</td>\n",
       "    </tr>\n",
       "    <tr>\n",
       "      <th>min</th>\n",
       "      <td>55.790001</td>\n",
       "      <td>67.239998</td>\n",
       "      <td>26.770000</td>\n",
       "      <td>7.140000</td>\n",
       "      <td>175.929993</td>\n",
       "      <td>94.769997</td>\n",
       "      <td>22.790001</td>\n",
       "      <td>278.481171</td>\n",
       "      <td>1278.040039</td>\n",
       "    </tr>\n",
       "    <tr>\n",
       "      <th>25%</th>\n",
       "      <td>89.165714</td>\n",
       "      <td>124.015000</td>\n",
       "      <td>33.040001</td>\n",
       "      <td>18.545000</td>\n",
       "      <td>316.490005</td>\n",
       "      <td>142.769997</td>\n",
       "      <td>184.595001</td>\n",
       "      <td>527.214416</td>\n",
       "      <td>1847.984985</td>\n",
       "    </tr>\n",
       "    <tr>\n",
       "      <th>50%</th>\n",
       "      <td>116.599998</td>\n",
       "      <td>142.419998</td>\n",
       "      <td>34.930000</td>\n",
       "      <td>23.780001</td>\n",
       "      <td>676.010010</td>\n",
       "      <td>156.949997</td>\n",
       "      <td>231.960007</td>\n",
       "      <td>737.599976</td>\n",
       "      <td>2106.629883</td>\n",
       "    </tr>\n",
       "    <tr>\n",
       "      <th>75%</th>\n",
       "      <td>175.019997</td>\n",
       "      <td>297.044998</td>\n",
       "      <td>37.419998</td>\n",
       "      <td>28.430000</td>\n",
       "      <td>1593.645019</td>\n",
       "      <td>185.974998</td>\n",
       "      <td>307.350006</td>\n",
       "      <td>1079.744995</td>\n",
       "      <td>2705.810059</td>\n",
       "    </tr>\n",
       "    <tr>\n",
       "      <th>max</th>\n",
       "      <td>455.609985</td>\n",
       "      <td>440.619995</td>\n",
       "      <td>43.470001</td>\n",
       "      <td>38.029999</td>\n",
       "      <td>3225.000000</td>\n",
       "      <td>215.800003</td>\n",
       "      <td>1643.000000</td>\n",
       "      <td>1568.489990</td>\n",
       "      <td>3386.149902</td>\n",
       "    </tr>\n",
       "  </tbody>\n",
       "</table>\n",
       "</div>"
      ],
      "text/plain": [
       "              AAPL           BA            T          MGM         AMZN  \\\n",
       "count  2159.000000  2159.000000  2159.000000  2159.000000  2159.000000   \n",
       "mean    140.819823   189.942700    35.162899    23.105743   915.665665   \n",
       "std      70.827601   103.678586     3.207490     6.963847   697.838905   \n",
       "min      55.790001    67.239998    26.770000     7.140000   175.929993   \n",
       "25%      89.165714   124.015000    33.040001    18.545000   316.490005   \n",
       "50%     116.599998   142.419998    34.930000    23.780001   676.010010   \n",
       "75%     175.019997   297.044998    37.419998    28.430000  1593.645019   \n",
       "max     455.609985   440.619995    43.470001    38.029999  3225.000000   \n",
       "\n",
       "               IBM         TSLA         GOOG        sp500  \n",
       "count  2159.000000  2159.000000  2159.000000  2159.000000  \n",
       "mean    161.853001   259.600815   783.712512  2218.749554  \n",
       "std      25.561938   210.988003   334.448057   537.321727  \n",
       "min      94.769997    22.790001   278.481171  1278.040039  \n",
       "25%     142.769997   184.595001   527.214416  1847.984985  \n",
       "50%     156.949997   231.960007   737.599976  2106.629883  \n",
       "75%     185.974998   307.350006  1079.744995  2705.810059  \n",
       "max     215.800003  1643.000000  1568.489990  3386.149902  "
      ]
     },
     "execution_count": 35,
     "metadata": {},
     "output_type": "execute_result"
    }
   ],
   "source": [
    "df.describe()"
   ]
  },
  {
   "cell_type": "code",
   "execution_count": 14,
   "metadata": {
    "colab": {
     "base_uri": "https://localhost:8080/",
     "height": 423
    },
    "id": "QTg_POeCuUeE",
    "outputId": "51bdec94-65a5-4bb8-d664-43de9ef528f3"
   },
   "outputs": [
    {
     "data": {
      "text/html": [
       "<div>\n",
       "<style scoped>\n",
       "    .dataframe tbody tr th:only-of-type {\n",
       "        vertical-align: middle;\n",
       "    }\n",
       "\n",
       "    .dataframe tbody tr th {\n",
       "        vertical-align: top;\n",
       "    }\n",
       "\n",
       "    .dataframe thead th {\n",
       "        text-align: right;\n",
       "    }\n",
       "</style>\n",
       "<table border=\"1\" class=\"dataframe\">\n",
       "  <thead>\n",
       "    <tr style=\"text-align: right;\">\n",
       "      <th></th>\n",
       "      <th>Date</th>\n",
       "      <th>AAPL</th>\n",
       "      <th>BA</th>\n",
       "      <th>T</th>\n",
       "      <th>MGM</th>\n",
       "      <th>AMZN</th>\n",
       "      <th>IBM</th>\n",
       "      <th>TSLA</th>\n",
       "      <th>GOOG</th>\n",
       "      <th>sp500</th>\n",
       "    </tr>\n",
       "  </thead>\n",
       "  <tbody>\n",
       "    <tr>\n",
       "      <th>0</th>\n",
       "      <td>2012-01-12</td>\n",
       "      <td>60.198570</td>\n",
       "      <td>75.510002</td>\n",
       "      <td>30.120001</td>\n",
       "      <td>12.130000</td>\n",
       "      <td>175.929993</td>\n",
       "      <td>180.550003</td>\n",
       "      <td>28.250000</td>\n",
       "      <td>313.644379</td>\n",
       "      <td>1295.500000</td>\n",
       "    </tr>\n",
       "    <tr>\n",
       "      <th>1</th>\n",
       "      <td>2012-01-13</td>\n",
       "      <td>59.972858</td>\n",
       "      <td>74.599998</td>\n",
       "      <td>30.070000</td>\n",
       "      <td>12.350000</td>\n",
       "      <td>178.419998</td>\n",
       "      <td>179.160004</td>\n",
       "      <td>22.790001</td>\n",
       "      <td>311.328064</td>\n",
       "      <td>1289.089966</td>\n",
       "    </tr>\n",
       "    <tr>\n",
       "      <th>2</th>\n",
       "      <td>2012-01-17</td>\n",
       "      <td>60.671429</td>\n",
       "      <td>75.239998</td>\n",
       "      <td>30.250000</td>\n",
       "      <td>12.250000</td>\n",
       "      <td>181.660004</td>\n",
       "      <td>180.000000</td>\n",
       "      <td>26.600000</td>\n",
       "      <td>313.116364</td>\n",
       "      <td>1293.670044</td>\n",
       "    </tr>\n",
       "    <tr>\n",
       "      <th>3</th>\n",
       "      <td>2012-01-18</td>\n",
       "      <td>61.301430</td>\n",
       "      <td>75.059998</td>\n",
       "      <td>30.330000</td>\n",
       "      <td>12.730000</td>\n",
       "      <td>189.440002</td>\n",
       "      <td>181.070007</td>\n",
       "      <td>26.809999</td>\n",
       "      <td>315.273285</td>\n",
       "      <td>1308.040039</td>\n",
       "    </tr>\n",
       "    <tr>\n",
       "      <th>4</th>\n",
       "      <td>2012-01-19</td>\n",
       "      <td>61.107143</td>\n",
       "      <td>75.559998</td>\n",
       "      <td>30.420000</td>\n",
       "      <td>12.800000</td>\n",
       "      <td>194.449997</td>\n",
       "      <td>180.520004</td>\n",
       "      <td>26.760000</td>\n",
       "      <td>318.590851</td>\n",
       "      <td>1314.500000</td>\n",
       "    </tr>\n",
       "    <tr>\n",
       "      <th>...</th>\n",
       "      <td>...</td>\n",
       "      <td>...</td>\n",
       "      <td>...</td>\n",
       "      <td>...</td>\n",
       "      <td>...</td>\n",
       "      <td>...</td>\n",
       "      <td>...</td>\n",
       "      <td>...</td>\n",
       "      <td>...</td>\n",
       "      <td>...</td>\n",
       "    </tr>\n",
       "    <tr>\n",
       "      <th>2154</th>\n",
       "      <td>2020-08-05</td>\n",
       "      <td>440.250000</td>\n",
       "      <td>174.279999</td>\n",
       "      <td>29.850000</td>\n",
       "      <td>16.719999</td>\n",
       "      <td>3205.030029</td>\n",
       "      <td>125.449997</td>\n",
       "      <td>1485.020020</td>\n",
       "      <td>1473.609985</td>\n",
       "      <td>3327.770020</td>\n",
       "    </tr>\n",
       "    <tr>\n",
       "      <th>2155</th>\n",
       "      <td>2020-08-06</td>\n",
       "      <td>455.609985</td>\n",
       "      <td>172.199997</td>\n",
       "      <td>29.840000</td>\n",
       "      <td>18.459999</td>\n",
       "      <td>3225.000000</td>\n",
       "      <td>126.120003</td>\n",
       "      <td>1489.579956</td>\n",
       "      <td>1500.099976</td>\n",
       "      <td>3349.159912</td>\n",
       "    </tr>\n",
       "    <tr>\n",
       "      <th>2156</th>\n",
       "      <td>2020-08-07</td>\n",
       "      <td>444.450012</td>\n",
       "      <td>170.020004</td>\n",
       "      <td>30.020000</td>\n",
       "      <td>19.030001</td>\n",
       "      <td>3167.459961</td>\n",
       "      <td>124.959999</td>\n",
       "      <td>1452.709961</td>\n",
       "      <td>1494.489990</td>\n",
       "      <td>3351.280029</td>\n",
       "    </tr>\n",
       "    <tr>\n",
       "      <th>2157</th>\n",
       "      <td>2020-08-10</td>\n",
       "      <td>450.910004</td>\n",
       "      <td>179.410004</td>\n",
       "      <td>30.200001</td>\n",
       "      <td>21.650000</td>\n",
       "      <td>3148.159912</td>\n",
       "      <td>127.110001</td>\n",
       "      <td>1418.569946</td>\n",
       "      <td>1496.099976</td>\n",
       "      <td>3360.469971</td>\n",
       "    </tr>\n",
       "    <tr>\n",
       "      <th>2158</th>\n",
       "      <td>2020-08-11</td>\n",
       "      <td>437.500000</td>\n",
       "      <td>180.130005</td>\n",
       "      <td>30.200001</td>\n",
       "      <td>21.500000</td>\n",
       "      <td>3080.669922</td>\n",
       "      <td>126.750000</td>\n",
       "      <td>1374.390015</td>\n",
       "      <td>1480.319946</td>\n",
       "      <td>3333.689941</td>\n",
       "    </tr>\n",
       "  </tbody>\n",
       "</table>\n",
       "<p>2159 rows × 10 columns</p>\n",
       "</div>"
      ],
      "text/plain": [
       "            Date        AAPL          BA          T        MGM         AMZN  \\\n",
       "0     2012-01-12   60.198570   75.510002  30.120001  12.130000   175.929993   \n",
       "1     2012-01-13   59.972858   74.599998  30.070000  12.350000   178.419998   \n",
       "2     2012-01-17   60.671429   75.239998  30.250000  12.250000   181.660004   \n",
       "3     2012-01-18   61.301430   75.059998  30.330000  12.730000   189.440002   \n",
       "4     2012-01-19   61.107143   75.559998  30.420000  12.800000   194.449997   \n",
       "...          ...         ...         ...        ...        ...          ...   \n",
       "2154  2020-08-05  440.250000  174.279999  29.850000  16.719999  3205.030029   \n",
       "2155  2020-08-06  455.609985  172.199997  29.840000  18.459999  3225.000000   \n",
       "2156  2020-08-07  444.450012  170.020004  30.020000  19.030001  3167.459961   \n",
       "2157  2020-08-10  450.910004  179.410004  30.200001  21.650000  3148.159912   \n",
       "2158  2020-08-11  437.500000  180.130005  30.200001  21.500000  3080.669922   \n",
       "\n",
       "             IBM         TSLA         GOOG        sp500  \n",
       "0     180.550003    28.250000   313.644379  1295.500000  \n",
       "1     179.160004    22.790001   311.328064  1289.089966  \n",
       "2     180.000000    26.600000   313.116364  1293.670044  \n",
       "3     181.070007    26.809999   315.273285  1308.040039  \n",
       "4     180.520004    26.760000   318.590851  1314.500000  \n",
       "...          ...          ...          ...          ...  \n",
       "2154  125.449997  1485.020020  1473.609985  3327.770020  \n",
       "2155  126.120003  1489.579956  1500.099976  3349.159912  \n",
       "2156  124.959999  1452.709961  1494.489990  3351.280029  \n",
       "2157  127.110001  1418.569946  1496.099976  3360.469971  \n",
       "2158  126.750000  1374.390015  1480.319946  3333.689941  \n",
       "\n",
       "[2159 rows x 10 columns]"
      ]
     },
     "execution_count": 14,
     "metadata": {},
     "output_type": "execute_result"
    }
   ],
   "source": [
    "# Sort the stock data by date\n",
    "\n",
    "df1 = df.sort_values(by = 'Date')\n",
    "\n",
    "df1\n"
   ]
  },
  {
   "cell_type": "code",
   "execution_count": 15,
   "metadata": {
    "colab": {
     "base_uri": "https://localhost:8080/"
    },
    "id": "77rPtCs85NgU",
    "outputId": "028f8aad-25c7-49a7-a52f-b0c399688020"
   },
   "outputs": [
    {
     "name": "stdout",
     "output_type": "stream",
     "text": [
      "The total number of stocks are:  9\n"
     ]
    }
   ],
   "source": [
    "# Print out the number of stocks\n",
    "\n",
    "number = len(df.columns[1:])\n",
    "\n",
    "print(\"The total number of stocks are: \", number)"
   ]
  },
  {
   "cell_type": "code",
   "execution_count": 37,
   "metadata": {
    "colab": {
     "base_uri": "https://localhost:8080/"
    },
    "id": "8wBR2CHA5O87",
    "outputId": "0f62dfb9-bcc4-4245-fd85-533b8b3881c8"
   },
   "outputs": [
    {
     "name": "stdout",
     "output_type": "stream",
     "text": [
      "stock1 AAPL\n",
      "stock2 BA\n",
      "stock3 T\n",
      "stock4 MGM\n",
      "stock5 AMZN\n",
      "stock6 IBM\n",
      "stock7 TSLA\n",
      "stock8 GOOG\n",
      "stock9 sp500\n"
     ]
    }
   ],
   "source": [
    "# Print the name of stocks\n",
    "n = 0\n",
    "for i in df.columns[1:]:\n",
    "  n += 1\n",
    "  print(f\"stock{n}\", i)\n"
   ]
  },
  {
   "cell_type": "markdown",
   "metadata": {
    "id": "ubohn_-54V0Y"
   },
   "source": [
    "**MINI CHALLENGE #1:**\n",
    "- **What is the average return of the S&P500?**\n",
    "- **Which stock or index has the minimum dispertion from the mean in dollar value?**\n",
    "- **What is the maximum price for AMZN stock over the specified time period?**"
   ]
  },
  {
   "cell_type": "code",
   "execution_count": 17,
   "metadata": {
    "colab": {
     "base_uri": "https://localhost:8080/"
    },
    "id": "VLVdsAIA5aQp",
    "outputId": "a8b6320f-e984-4b26-92af-20275921470e"
   },
   "outputs": [
    {
     "name": "stdout",
     "output_type": "stream",
     "text": [
      "The average return on S&P500 is:  2218.7495540592868\n"
     ]
    }
   ],
   "source": [
    "avg = df['sp500'].mean()\n",
    "\n",
    "avg\n",
    "\n",
    "print(\"The average return on S&P500 is: \", avg)"
   ]
  },
  {
   "cell_type": "code",
   "execution_count": 18,
   "metadata": {
    "colab": {
     "base_uri": "https://localhost:8080/",
     "height": 366
    },
    "id": "CEl_objKrwMl",
    "outputId": "09e98e71-d999-4cce-884c-d66a7d47e157"
   },
   "outputs": [
    {
     "data": {
      "text/plain": [
       "AAPL      70.827601\n",
       "BA       103.678586\n",
       "T          3.207490\n",
       "MGM        6.963847\n",
       "AMZN     697.838905\n",
       "IBM       25.561938\n",
       "TSLA     210.988003\n",
       "GOOG     334.448057\n",
       "sp500    537.321727\n",
       "dtype: float64"
      ]
     },
     "execution_count": 18,
     "metadata": {},
     "output_type": "execute_result"
    }
   ],
   "source": [
    "df3 = df.drop('Date', axis= 1)\n",
    "\n",
    "std1 = df3.std()\n",
    "\n",
    "std1\n",
    "\n"
   ]
  },
  {
   "cell_type": "code",
   "execution_count": 19,
   "metadata": {
    "colab": {
     "base_uri": "https://localhost:8080/"
    },
    "id": "Q0U6EfFFszZ7",
    "outputId": "fe3e5e6a-6150-4a40-d67e-cda116af3d73"
   },
   "outputs": [
    {
     "name": "stdout",
     "output_type": "stream",
     "text": [
      "The stock with minumum standard deviation is 3.2074898522656103\n"
     ]
    }
   ],
   "source": [
    "stock2 = min(df3.std())\n",
    "\n",
    "print(\"The stock with minumum standard deviation is\", stock2)"
   ]
  },
  {
   "cell_type": "code",
   "execution_count": 20,
   "metadata": {
    "colab": {
     "base_uri": "https://localhost:8080/"
    },
    "id": "PcjvKQ64t9AF",
    "outputId": "27ce4212-fe24-42aa-e370-8f027a2af4fa"
   },
   "outputs": [
    {
     "data": {
      "text/plain": [
       "3225.0"
      ]
     },
     "execution_count": 20,
     "metadata": {},
     "output_type": "execute_result"
    }
   ],
   "source": [
    "max_AMZN = max(df['AMZN'])\n",
    "\n",
    "max_AMZN"
   ]
  },
  {
   "cell_type": "markdown",
   "metadata": {
    "id": "qmba17fwuk83"
   },
   "source": [
    "# TASK #3: PERFORM EXPLORATORY DATA ANALYSIS AND VISUALIZATION"
   ]
  },
  {
   "cell_type": "code",
   "execution_count": 21,
   "metadata": {
    "colab": {
     "base_uri": "https://localhost:8080/",
     "height": 397
    },
    "id": "igiwssGruHHH",
    "outputId": "b81565a2-40ff-456d-9e91-fee2fdc33938"
   },
   "outputs": [
    {
     "data": {
      "text/plain": [
       "Date     0\n",
       "AAPL     0\n",
       "BA       0\n",
       "T        0\n",
       "MGM      0\n",
       "AMZN     0\n",
       "IBM      0\n",
       "TSLA     0\n",
       "GOOG     0\n",
       "sp500    0\n",
       "dtype: int64"
      ]
     },
     "execution_count": 21,
     "metadata": {},
     "output_type": "execute_result"
    }
   ],
   "source": [
    "# Check if data contains any null values\n",
    "df.isnull().sum()"
   ]
  },
  {
   "cell_type": "code",
   "execution_count": 22,
   "metadata": {
    "id": "0NCbEVYJuqND"
   },
   "outputs": [],
   "source": [
    "# Getting dataframe info\n"
   ]
  },
  {
   "cell_type": "code",
   "execution_count": 40,
   "metadata": {
    "id": "_sYkHjZJuqTg"
   },
   "outputs": [],
   "source": [
    "# Define a function to plot the entire dataframe\n",
    "# The function takes in a dataframe df as an input argument and does not return anything back!\n",
    "# The function performs data visualization\n",
    "# Pandas works great with matplotlib, you can simply plot data directly from a Pandas DataFrame using plot() method\n",
    "\n",
    "def data_plot(data, fig_title):\n",
    "    data.plot(x = 'Date', figsize = (12,7), linewidth = 3, title = fig_title)\n",
    "    plt.grid()\n",
    "    plt.show()\n"
   ]
  },
  {
   "cell_type": "code",
   "execution_count": 41,
   "metadata": {
    "id": "HBLjDdvS81xD"
   },
   "outputs": [
    {
     "data": {
      "image/png": "[encoded data removed]",
      "text/plain": [
       "<Figure size 1200x700 with 1 Axes>"
      ]
     },
     "metadata": {},
     "output_type": "display_data"
    }
   ],
   "source": [
    "# Plot the data\n",
    "data_plot( df, \"Raw Stock Prices (Without Normalization)\")\n"
   ]
  },
  {
   "cell_type": "markdown",
   "metadata": {
    "id": "yt7FZfV19_M5"
   },
   "source": [
    "**MINI CHALLENGE #2:**\n",
    "- **Print out normalized (scaled) stock prices**  \n"
   ]
  },
  {
   "cell_type": "code",
   "execution_count": 42,
   "metadata": {
    "id": "65qtrq5Q-d7A"
   },
   "outputs": [
    {
     "data": {
      "text/html": [
       "<div>\n",
       "<style scoped>\n",
       "    .dataframe tbody tr th:only-of-type {\n",
       "        vertical-align: middle;\n",
       "    }\n",
       "\n",
       "    .dataframe tbody tr th {\n",
       "        vertical-align: top;\n",
       "    }\n",
       "\n",
       "    .dataframe thead th {\n",
       "        text-align: right;\n",
       "    }\n",
       "</style>\n",
       "<table border=\"1\" class=\"dataframe\">\n",
       "  <thead>\n",
       "    <tr style=\"text-align: right;\">\n",
       "      <th></th>\n",
       "      <th>AAPL</th>\n",
       "      <th>BA</th>\n",
       "      <th>T</th>\n",
       "      <th>MGM</th>\n",
       "      <th>AMZN</th>\n",
       "      <th>IBM</th>\n",
       "      <th>TSLA</th>\n",
       "      <th>GOOG</th>\n",
       "      <th>sp500</th>\n",
       "    </tr>\n",
       "  </thead>\n",
       "  <tbody>\n",
       "    <tr>\n",
       "      <th>0</th>\n",
       "      <td>60.198570</td>\n",
       "      <td>75.510002</td>\n",
       "      <td>30.120001</td>\n",
       "      <td>12.13</td>\n",
       "      <td>175.929993</td>\n",
       "      <td>180.550003</td>\n",
       "      <td>28.250000</td>\n",
       "      <td>313.644379</td>\n",
       "      <td>1295.500000</td>\n",
       "    </tr>\n",
       "    <tr>\n",
       "      <th>1</th>\n",
       "      <td>59.972858</td>\n",
       "      <td>74.599998</td>\n",
       "      <td>30.070000</td>\n",
       "      <td>12.35</td>\n",
       "      <td>178.419998</td>\n",
       "      <td>179.160004</td>\n",
       "      <td>22.790001</td>\n",
       "      <td>311.328064</td>\n",
       "      <td>1289.089966</td>\n",
       "    </tr>\n",
       "    <tr>\n",
       "      <th>2</th>\n",
       "      <td>60.671429</td>\n",
       "      <td>75.239998</td>\n",
       "      <td>30.250000</td>\n",
       "      <td>12.25</td>\n",
       "      <td>181.660004</td>\n",
       "      <td>180.000000</td>\n",
       "      <td>26.600000</td>\n",
       "      <td>313.116364</td>\n",
       "      <td>1293.670044</td>\n",
       "    </tr>\n",
       "    <tr>\n",
       "      <th>3</th>\n",
       "      <td>61.301430</td>\n",
       "      <td>75.059998</td>\n",
       "      <td>30.330000</td>\n",
       "      <td>12.73</td>\n",
       "      <td>189.440002</td>\n",
       "      <td>181.070007</td>\n",
       "      <td>26.809999</td>\n",
       "      <td>315.273285</td>\n",
       "      <td>1308.040039</td>\n",
       "    </tr>\n",
       "    <tr>\n",
       "      <th>4</th>\n",
       "      <td>61.107143</td>\n",
       "      <td>75.559998</td>\n",
       "      <td>30.420000</td>\n",
       "      <td>12.80</td>\n",
       "      <td>194.449997</td>\n",
       "      <td>180.520004</td>\n",
       "      <td>26.760000</td>\n",
       "      <td>318.590851</td>\n",
       "      <td>1314.500000</td>\n",
       "    </tr>\n",
       "  </tbody>\n",
       "</table>\n",
       "</div>"
      ],
      "text/plain": [
       "        AAPL         BA          T    MGM        AMZN         IBM       TSLA  \\\n",
       "0  60.198570  75.510002  30.120001  12.13  175.929993  180.550003  28.250000   \n",
       "1  59.972858  74.599998  30.070000  12.35  178.419998  179.160004  22.790001   \n",
       "2  60.671429  75.239998  30.250000  12.25  181.660004  180.000000  26.600000   \n",
       "3  61.301430  75.059998  30.330000  12.73  189.440002  181.070007  26.809999   \n",
       "4  61.107143  75.559998  30.420000  12.80  194.449997  180.520004  26.760000   \n",
       "\n",
       "         GOOG        sp500  \n",
       "0  313.644379  1295.500000  \n",
       "1  311.328064  1289.089966  \n",
       "2  313.116364  1293.670044  \n",
       "3  315.273285  1308.040039  \n",
       "4  318.590851  1314.500000  "
      ]
     },
     "execution_count": 42,
     "metadata": {},
     "output_type": "execute_result"
    }
   ],
   "source": [
    "df3.head()"
   ]
  },
  {
   "cell_type": "code",
   "execution_count": 47,
   "metadata": {},
   "outputs": [],
   "source": [
    "def normalize(df):\n",
    "    x = df.copy()\n",
    "    for i in x.columns[1:]:\n",
    "        x[i] = x[i] / x[i][0]\n",
    "    return x\n",
    "        \n",
    "        "
   ]
  },
  {
   "cell_type": "code",
   "execution_count": 48,
   "metadata": {},
   "outputs": [
    {
     "data": {
      "text/html": [
       "<div>\n",
       "<style scoped>\n",
       "    .dataframe tbody tr th:only-of-type {\n",
       "        vertical-align: middle;\n",
       "    }\n",
       "\n",
       "    .dataframe tbody tr th {\n",
       "        vertical-align: top;\n",
       "    }\n",
       "\n",
       "    .dataframe thead th {\n",
       "        text-align: right;\n",
       "    }\n",
       "</style>\n",
       "<table border=\"1\" class=\"dataframe\">\n",
       "  <thead>\n",
       "    <tr style=\"text-align: right;\">\n",
       "      <th></th>\n",
       "      <th>Date</th>\n",
       "      <th>AAPL</th>\n",
       "      <th>BA</th>\n",
       "      <th>T</th>\n",
       "      <th>MGM</th>\n",
       "      <th>AMZN</th>\n",
       "      <th>IBM</th>\n",
       "      <th>TSLA</th>\n",
       "      <th>GOOG</th>\n",
       "      <th>sp500</th>\n",
       "    </tr>\n",
       "  </thead>\n",
       "  <tbody>\n",
       "    <tr>\n",
       "      <th>0</th>\n",
       "      <td>2012-01-12</td>\n",
       "      <td>1.000000</td>\n",
       "      <td>1.000000</td>\n",
       "      <td>1.000000</td>\n",
       "      <td>1.000000</td>\n",
       "      <td>1.000000</td>\n",
       "      <td>1.000000</td>\n",
       "      <td>1.000000</td>\n",
       "      <td>1.000000</td>\n",
       "      <td>1.000000</td>\n",
       "    </tr>\n",
       "    <tr>\n",
       "      <th>1</th>\n",
       "      <td>2012-01-13</td>\n",
       "      <td>0.996251</td>\n",
       "      <td>0.987949</td>\n",
       "      <td>0.998340</td>\n",
       "      <td>1.018137</td>\n",
       "      <td>1.014153</td>\n",
       "      <td>0.992301</td>\n",
       "      <td>0.806726</td>\n",
       "      <td>0.992615</td>\n",
       "      <td>0.995052</td>\n",
       "    </tr>\n",
       "    <tr>\n",
       "      <th>2</th>\n",
       "      <td>2012-01-17</td>\n",
       "      <td>1.007855</td>\n",
       "      <td>0.996424</td>\n",
       "      <td>1.004316</td>\n",
       "      <td>1.009893</td>\n",
       "      <td>1.032570</td>\n",
       "      <td>0.996954</td>\n",
       "      <td>0.941593</td>\n",
       "      <td>0.998317</td>\n",
       "      <td>0.998587</td>\n",
       "    </tr>\n",
       "    <tr>\n",
       "      <th>3</th>\n",
       "      <td>2012-01-18</td>\n",
       "      <td>1.018320</td>\n",
       "      <td>0.994040</td>\n",
       "      <td>1.006972</td>\n",
       "      <td>1.049464</td>\n",
       "      <td>1.076792</td>\n",
       "      <td>1.002880</td>\n",
       "      <td>0.949027</td>\n",
       "      <td>1.005193</td>\n",
       "      <td>1.009680</td>\n",
       "    </tr>\n",
       "    <tr>\n",
       "      <th>4</th>\n",
       "      <td>2012-01-19</td>\n",
       "      <td>1.015093</td>\n",
       "      <td>1.000662</td>\n",
       "      <td>1.009960</td>\n",
       "      <td>1.055235</td>\n",
       "      <td>1.105269</td>\n",
       "      <td>0.999834</td>\n",
       "      <td>0.947257</td>\n",
       "      <td>1.015771</td>\n",
       "      <td>1.014666</td>\n",
       "    </tr>\n",
       "    <tr>\n",
       "      <th>...</th>\n",
       "      <td>...</td>\n",
       "      <td>...</td>\n",
       "      <td>...</td>\n",
       "      <td>...</td>\n",
       "      <td>...</td>\n",
       "      <td>...</td>\n",
       "      <td>...</td>\n",
       "      <td>...</td>\n",
       "      <td>...</td>\n",
       "      <td>...</td>\n",
       "    </tr>\n",
       "    <tr>\n",
       "      <th>2154</th>\n",
       "      <td>2020-08-05</td>\n",
       "      <td>7.313297</td>\n",
       "      <td>2.308039</td>\n",
       "      <td>0.991036</td>\n",
       "      <td>1.378401</td>\n",
       "      <td>18.217644</td>\n",
       "      <td>0.694821</td>\n",
       "      <td>52.567080</td>\n",
       "      <td>4.698347</td>\n",
       "      <td>2.568715</td>\n",
       "    </tr>\n",
       "    <tr>\n",
       "      <th>2155</th>\n",
       "      <td>2020-08-06</td>\n",
       "      <td>7.568452</td>\n",
       "      <td>2.280493</td>\n",
       "      <td>0.990704</td>\n",
       "      <td>1.521847</td>\n",
       "      <td>18.331155</td>\n",
       "      <td>0.698532</td>\n",
       "      <td>52.728494</td>\n",
       "      <td>4.782805</td>\n",
       "      <td>2.585226</td>\n",
       "    </tr>\n",
       "    <tr>\n",
       "      <th>2156</th>\n",
       "      <td>2020-08-07</td>\n",
       "      <td>7.383066</td>\n",
       "      <td>2.251622</td>\n",
       "      <td>0.996680</td>\n",
       "      <td>1.568838</td>\n",
       "      <td>18.004093</td>\n",
       "      <td>0.692107</td>\n",
       "      <td>51.423361</td>\n",
       "      <td>4.764919</td>\n",
       "      <td>2.586862</td>\n",
       "    </tr>\n",
       "    <tr>\n",
       "      <th>2157</th>\n",
       "      <td>2020-08-10</td>\n",
       "      <td>7.490377</td>\n",
       "      <td>2.375977</td>\n",
       "      <td>1.002656</td>\n",
       "      <td>1.784831</td>\n",
       "      <td>17.894390</td>\n",
       "      <td>0.704016</td>\n",
       "      <td>50.214865</td>\n",
       "      <td>4.770052</td>\n",
       "      <td>2.593956</td>\n",
       "    </tr>\n",
       "    <tr>\n",
       "      <th>2158</th>\n",
       "      <td>2020-08-11</td>\n",
       "      <td>7.267614</td>\n",
       "      <td>2.385512</td>\n",
       "      <td>1.002656</td>\n",
       "      <td>1.772465</td>\n",
       "      <td>17.510772</td>\n",
       "      <td>0.702022</td>\n",
       "      <td>48.650974</td>\n",
       "      <td>4.719740</td>\n",
       "      <td>2.573284</td>\n",
       "    </tr>\n",
       "  </tbody>\n",
       "</table>\n",
       "<p>2159 rows × 10 columns</p>\n",
       "</div>"
      ],
      "text/plain": [
       "            Date      AAPL        BA         T       MGM       AMZN       IBM  \\\n",
       "0     2012-01-12  1.000000  1.000000  1.000000  1.000000   1.000000  1.000000   \n",
       "1     2012-01-13  0.996251  0.987949  0.998340  1.018137   1.014153  0.992301   \n",
       "2     2012-01-17  1.007855  0.996424  1.004316  1.009893   1.032570  0.996954   \n",
       "3     2012-01-18  1.018320  0.994040  1.006972  1.049464   1.076792  1.002880   \n",
       "4     2012-01-19  1.015093  1.000662  1.009960  1.055235   1.105269  0.999834   \n",
       "...          ...       ...       ...       ...       ...        ...       ...   \n",
       "2154  2020-08-05  7.313297  2.308039  0.991036  1.378401  18.217644  0.694821   \n",
       "2155  2020-08-06  7.568452  2.280493  0.990704  1.521847  18.331155  0.698532   \n",
       "2156  2020-08-07  7.383066  2.251622  0.996680  1.568838  18.004093  0.692107   \n",
       "2157  2020-08-10  7.490377  2.375977  1.002656  1.784831  17.894390  0.704016   \n",
       "2158  2020-08-11  7.267614  2.385512  1.002656  1.772465  17.510772  0.702022   \n",
       "\n",
       "           TSLA      GOOG     sp500  \n",
       "0      1.000000  1.000000  1.000000  \n",
       "1      0.806726  0.992615  0.995052  \n",
       "2      0.941593  0.998317  0.998587  \n",
       "3      0.949027  1.005193  1.009680  \n",
       "4      0.947257  1.015771  1.014666  \n",
       "...         ...       ...       ...  \n",
       "2154  52.567080  4.698347  2.568715  \n",
       "2155  52.728494  4.782805  2.585226  \n",
       "2156  51.423361  4.764919  2.586862  \n",
       "2157  50.214865  4.770052  2.593956  \n",
       "2158  48.650974  4.719740  2.573284  \n",
       "\n",
       "[2159 rows x 10 columns]"
      ]
     },
     "execution_count": 48,
     "metadata": {},
     "output_type": "execute_result"
    }
   ],
   "source": [
    "normalize(df)"
   ]
  },
  {
   "cell_type": "code",
   "execution_count": 50,
   "metadata": {},
   "outputs": [
    {
     "data": {
      "image/png": "[encoded data removed]",
      "text/plain": [
       "<Figure size 1200x700 with 1 Axes>"
      ]
     },
     "metadata": {},
     "output_type": "display_data"
    }
   ],
   "source": [
    "data_plot(normalize(df), \"Normalized Stock Prices\")"
   ]
  },
  {
   "cell_type": "markdown",
   "metadata": {
    "id": "8L9gXztQ92TC"
   },
   "source": [
    "# TASK #4: PERFORM INTERACTIVE DATA VISUALIZATION"
   ]
  },
  {
   "cell_type": "code",
   "execution_count": 25,
   "metadata": {
    "id": "yUcMVHQQuqQZ"
   },
   "outputs": [],
   "source": [
    "# Function to perform an interactive data plotting using plotly express\n",
    "# Plotly.express module which is imported as px includes functions that can plot interactive plots easily and effectively.\n",
    "# Every Plotly Express function uses graph objects internally and returns a plotly.graph_objects.Figure instance.\n",
    "\n",
    "def interactive_plot(df, title):\n",
    "    fig = px.line( title = title)\n",
    "    for i in df.columns[1:]:\n",
    "        \n",
    "        \n",
    "\n",
    "\n"
   ]
  },
  {
   "cell_type": "code",
   "execution_count": 26,
   "metadata": {
    "id": "x3tsVq0Juz_b"
   },
   "outputs": [],
   "source": [
    "# Plot interactive chart\n"
   ]
  },
  {
   "cell_type": "markdown",
   "metadata": {
    "id": "eEst3QL0AGNc"
   },
   "source": [
    "**MINI CHALLENGE #3:**\n",
    "- **Plot normalized stock data in an interactive way**\n",
    "- **It seems that most stocks experienced massive drops in 2020, let's assume that you own 100 shares of the S&P500 and you bought them on Feb 19th, 2020. How much did you lose (in $) by March 23rd, 2020?**\n"
   ]
  },
  {
   "cell_type": "code",
   "execution_count": null,
   "metadata": {
    "id": "o2qqc2MVEJbU"
   },
   "outputs": [],
   "source": []
  },
  {
   "cell_type": "markdown",
   "metadata": {
    "id": "sy2lCzGi0Q9K"
   },
   "source": [
    "# TASK #5: CALCULATE INDIVIDUAL STOCKS DAILY RETURNS"
   ]
  },
  {
   "cell_type": "code",
   "execution_count": 27,
   "metadata": {
    "id": "eAqHOkFREV-0"
   },
   "outputs": [],
   "source": [
    "# Let's calculate daily return for a single security\n",
    "# Let's take the S&P500 as an example first\n"
   ]
  },
  {
   "cell_type": "markdown",
   "metadata": {
    "id": "ZmweQxu1F9b9"
   },
   "source": [
    "**MINI CHALLENGE #4:**\n",
    "- **Calculate the daily return for Amazon stock.**\n"
   ]
  },
  {
   "cell_type": "code",
   "execution_count": null,
   "metadata": {
    "id": "jJizU5-3F68A"
   },
   "outputs": [],
   "source": []
  },
  {
   "cell_type": "markdown",
   "metadata": {
    "id": "E_Ldvu42F0yI"
   },
   "source": [
    "# TASK #6: CALCULATE MULTIPLE STOCKS DAILY RETURNS"
   ]
  },
  {
   "cell_type": "code",
   "execution_count": 28,
   "metadata": {
    "id": "BAYcdk5_J1X6"
   },
   "outputs": [],
   "source": [
    "# Let's define a function to calculate stocks daily returns (for all stocks)\n"
   ]
  },
  {
   "cell_type": "code",
   "execution_count": 29,
   "metadata": {
    "id": "gFxXpwVfWPaC"
   },
   "outputs": [],
   "source": [
    "# Get the daily returns\n"
   ]
  },
  {
   "cell_type": "code",
   "execution_count": null,
   "metadata": {
    "id": "fUebOVEs1L8U"
   },
   "outputs": [],
   "source": []
  },
  {
   "cell_type": "markdown",
   "metadata": {
    "id": "k-OTQRikGnXK"
   },
   "source": [
    "**MINI CHALLENGE #5:**\n",
    "- **Plot the returns vs. time using both static and interactive plots**\n",
    "- **What is the maximum daily return in % values**"
   ]
  },
  {
   "cell_type": "code",
   "execution_count": null,
   "metadata": {
    "id": "RY4Mz10LIMkN"
   },
   "outputs": [],
   "source": []
  },
  {
   "cell_type": "markdown",
   "metadata": {
    "id": "O0fakkYYINwa"
   },
   "source": [
    "# TASK #7: CALCULATE THE CORRELATIONS BETWEEN DAILY RETURNS"
   ]
  },
  {
   "cell_type": "code",
   "execution_count": 30,
   "metadata": {
    "id": "yO74euRqT5l7"
   },
   "outputs": [],
   "source": [
    "# Daily Return Correlation\n"
   ]
  },
  {
   "cell_type": "code",
   "execution_count": null,
   "metadata": {
    "id": "u5rLOxb-VaT_"
   },
   "outputs": [],
   "source": []
  },
  {
   "cell_type": "markdown",
   "metadata": {
    "id": "5BODhJ55Jxde"
   },
   "source": [
    "**MINI CHALLENGE #6:**\n",
    "- **What are the top 2 stocks that are positively correlated with the S&P500?**\n",
    "- **What is the correlation between Amazon and Boeing? Comment on your answer**\n",
    "- **What is the correlation between MGM and Boeing? Comment on your answer**"
   ]
  },
  {
   "cell_type": "code",
   "execution_count": null,
   "metadata": {
    "id": "E9GPUJL5i1s4"
   },
   "outputs": [],
   "source": []
  },
  {
   "cell_type": "markdown",
   "metadata": {
    "id": "6o_TJSknK0nT"
   },
   "source": [
    "# TASK #8: PLOT THE HISTOGRAM FOR DAILY RETURNS"
   ]
  },
  {
   "cell_type": "code",
   "execution_count": 31,
   "metadata": {
    "id": "2XX_aVAXPOod"
   },
   "outputs": [],
   "source": [
    "# Histogram of daily returns\n",
    "# Stock returns are normally distributed with zero mean\n",
    "# Notice how Tesla Standard deviation is high indicating a more volatile stock\n"
   ]
  },
  {
   "cell_type": "code",
   "execution_count": null,
   "metadata": {
    "id": "wm5hv0V4LFud"
   },
   "outputs": [],
   "source": []
  },
  {
   "cell_type": "markdown",
   "metadata": {
    "id": "BdLC2x_aLGOU"
   },
   "source": [
    "**MINI CHALLENGE #7:**\n",
    "- **Based on the histogram, which of the following stocks are more risky? T or TSLA**"
   ]
  },
  {
   "cell_type": "code",
   "execution_count": null,
   "metadata": {
    "id": "pNmqCgEVLlKs"
   },
   "outputs": [],
   "source": []
  },
  {
   "cell_type": "code",
   "execution_count": 32,
   "metadata": {
    "id": "C_HRCdtiQNR6"
   },
   "outputs": [],
   "source": [
    "# Group all data returns together in a list\n",
    "# Make a copy of the daily returns dataframe\n"
   ]
  },
  {
   "cell_type": "code",
   "execution_count": 33,
   "metadata": {
    "id": "uhW6OMmg5mGa"
   },
   "outputs": [],
   "source": [
    "# Plotly's Python API contains a super pwerful module known as figure factory module\n",
    "# Figure factory module includes wrapper functions that create unique chart types such as interactive subplots\n",
    "# Check this out for more information: https://plotly.com/python/figure-factory-subplots/\n",
    "# Notice how Boeing, Tesla and MGM gains are losses are sometimes extreme! This will indicate a more risky investment and will be quantified later using Sharpe Ratio\n"
   ]
  },
  {
   "cell_type": "markdown",
   "metadata": {
    "id": "KPq0NpLQ8HxL"
   },
   "source": [
    "# EXCELLENT JOB!"
   ]
  },
  {
   "cell_type": "markdown",
   "metadata": {
    "id": "nyxrAPiR8LM7"
   },
   "source": [
    "# **MINI CHALLENGE SOLUTIONS**"
   ]
  },
  {
   "cell_type": "markdown",
   "metadata": {
    "id": "yLI7dnWd4r_w"
   },
   "source": [
    "**MINI CHALLENGE #1 SOLUTION:**\n",
    "- **What is the average return of the S&P500?**\n",
    "- **What is the maximum price for AMZN stock over the specified time period?**"
   ]
  },
  {
   "cell_type": "code",
   "execution_count": 34,
   "metadata": {
    "colab": {
     "base_uri": "https://localhost:8080/",
     "height": 158
    },
    "id": "m8G66miB4r_x",
    "outputId": "8c2714e5-c30e-4a99-b853-332bbce34bd2"
   },
   "outputs": [
    {
     "ename": "NameError",
     "evalue": "name 'stocks_df' is not defined",
     "output_type": "error",
     "traceback": [
      "\u001b[1;31m---------------------------------------------------------------------------\u001b[0m",
      "\u001b[1;31mNameError\u001b[0m                                 Traceback (most recent call last)",
      "Cell \u001b[1;32mIn[34], line 2\u001b[0m\n\u001b[0;32m      1\u001b[0m \u001b[38;5;66;03m# Get the mean values\u001b[39;00m\n\u001b[1;32m----> 2\u001b[0m stocks_df\u001b[38;5;241m.\u001b[39mmean()\n",
      "\u001b[1;31mNameError\u001b[0m: name 'stocks_df' is not defined"
     ]
    }
   ],
   "source": [
    "# Get the mean values\n",
    "stocks_df.mean()"
   ]
  },
  {
   "cell_type": "code",
   "execution_count": null,
   "metadata": {
    "id": "Mz1MZSQ94r_2"
   },
   "outputs": [],
   "source": [
    "# Get the standard deviation of stocks (Volatility)\n",
    "stocks_df.std()"
   ]
  },
  {
   "cell_type": "code",
   "execution_count": null,
   "metadata": {
    "id": "e1q_jYuF4r_5"
   },
   "outputs": [],
   "source": [
    "# Statistical data of the dataframe\n",
    "stocks_df.describe()"
   ]
  },
  {
   "cell_type": "markdown",
   "metadata": {
    "id": "1wac0-nS-UBV"
   },
   "source": [
    "**MINI CHALLENGE #2 SOLUTION:**\n",
    "- **Print out normalized (scaled) stock prices**  \n"
   ]
  },
  {
   "cell_type": "code",
   "execution_count": null,
   "metadata": {
    "id": "EEte8SuW-UBY"
   },
   "outputs": [],
   "source": [
    "# Function to normalize the prices based on the initial price\n",
    "# The function simply divides every stock by it's price at the start date (i.e.: Date = 2012-01-12)\n",
    "def normalize(df):\n",
    "  x = df.copy()\n",
    "\n",
    "  # Loop through each stock (while ignoring time columns with index 0)\n",
    "  for i in x.columns[1:]:\n",
    "    x[i] = x[i]/x[i][0]\n",
    "  return x"
   ]
  },
  {
   "cell_type": "code",
   "execution_count": null,
   "metadata": {
    "id": "2eAllnw8-UBh"
   },
   "outputs": [],
   "source": [
    "# Plot normalized data\n",
    "# Notice the massive gains in Tesla Stock compared to Amazon (second place)\n",
    "show_plot(normalize(stocks_df), 'NORMALIZED STOCK PRICES')"
   ]
  },
  {
   "cell_type": "markdown",
   "metadata": {
    "id": "WYfb-2x-EA75"
   },
   "source": [
    "**MINI CHALLENGE #3 SOLUTION:**\n",
    "- **Plot normalized stock data in an interactive way**\n",
    "- **It seems that most stocks experienced massive drops in 2020, let's assume that you own 100 shares of the S&P500 and you bought them on Feb 19th, 2020. How much did you lose (in $) by March 23rd, 2020?**\n"
   ]
  },
  {
   "cell_type": "code",
   "execution_count": null,
   "metadata": {
    "id": "44-2ihh7EA78"
   },
   "outputs": [],
   "source": [
    "# Plot normalized interactive chart\n",
    "interactive_plot(normalize(stocks_df), 'Normalized Prices')\n"
   ]
  },
  {
   "cell_type": "code",
   "execution_count": null,
   "metadata": {
    "id": "AJJwBbBdEE4P"
   },
   "outputs": [],
   "source": [
    "# S&P500 dropped from $3386.15 on Feb 19th, 2020 to $2237.4 by March 23rd, 2020\n",
    "# Net loss = $3386.15 - $2237.4 = $1148.75"
   ]
  },
  {
   "cell_type": "markdown",
   "metadata": {
    "id": "VuWkmtdjGRir"
   },
   "source": [
    "**MINI CHALLENGE #4 SOLUTION:**\n",
    "- **Calculate the daily return for Amazon stock.**\n"
   ]
  },
  {
   "cell_type": "code",
   "execution_count": null,
   "metadata": {
    "id": "7OTA32P2GRiu"
   },
   "outputs": [],
   "source": [
    "df = stocks_df['AMZN']"
   ]
  },
  {
   "cell_type": "markdown",
   "metadata": {
    "id": "GkoXdb8qIBT4"
   },
   "source": [
    "**MINI CHALLENGE #5 SOLUTION:**\n",
    "- **Plot the returns vs. time using both static and interactive plots**\n",
    "- **What is the maximum daily return in % values**"
   ]
  },
  {
   "cell_type": "code",
   "execution_count": null,
   "metadata": {
    "id": "sbdpW5cXIBT5"
   },
   "outputs": [],
   "source": [
    "# Plot the daily returns\n",
    "# Notice huge drops in MGM around March 2020 (Pandemic effect)\n",
    "show_plot(stocks_daily_return, 'STOCKS DAILY RETURNS')"
   ]
  },
  {
   "cell_type": "code",
   "execution_count": null,
   "metadata": {
    "id": "QCz0zV9rIBT9"
   },
   "outputs": [],
   "source": [
    "# Plot the interactive chart\n",
    "# Zoom in to view the sharp decline during March 2020\n",
    "interactive_plot(stocks_daily_return, 'STOCKS DAILY RETURNS')"
   ]
  },
  {
   "cell_type": "markdown",
   "metadata": {
    "id": "9Z4b3SVgKiUg"
   },
   "source": [
    "**MINI CHALLENGE #6 SOLUTION:**\n",
    "- **What are the top 2 stocks that are positively correlated with the S&P500?**\n",
    "- **What is the correlation between Amazon and Boeing? Comment on your answer**\n",
    "- **What is the correlation between MGM and Boeing? Comment on your answer**"
   ]
  },
  {
   "cell_type": "code",
   "execution_count": null,
   "metadata": {
    "id": "WVC-b21kKiUj"
   },
   "outputs": [],
   "source": [
    "# Strong positive correlation between S&P500 and Google\n",
    "# Strong positive correlation between S&P500 and IBM\n",
    "# Almost no correlation between Amazon and Beoing - totally different sectors\n",
    "# Some correlation exists between MGM and Boeing (Hotel and Airlines)"
   ]
  },
  {
   "cell_type": "markdown",
   "metadata": {
    "id": "qzFPT2iALt-E"
   },
   "source": [
    "**MINI CHALLENGE #7 SOLUTION:**\n",
    "- **Based on the histogram, which of the following stocks are more risky? T or TSLA**"
   ]
  },
  {
   "cell_type": "code",
   "execution_count": null,
   "metadata": {
    "id": "T_DLcQ2rLt-F"
   },
   "outputs": [],
   "source": [
    "# Tesla standard deviation is much larger compared to T indicating a more risky security"
   ]
  }
 ],
 "metadata": {
  "colab": {
   "provenance": []
  },
  "kernelspec": {
   "display_name": "Python [conda env:base] *",
   "language": "python",
   "name": "conda-base-py"
  },
  "language_info": {
   "codemirror_mode": {
    "name": "ipython",
    "version": 3
   },
   "file_extension": ".py",
   "mimetype": "text/x-python",
   "name": "python",
   "nbconvert_exporter": "python",
   "pygments_lexer": "ipython3",
   "version": "3.12.7"
  }
 },
 "nbformat": 4,
 "nbformat_minor": 4
}
